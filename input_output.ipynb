{
 "cells": [
  {
   "cell_type": "markdown",
   "metadata": {},
   "source": [
    "Lab1 - Python fundamentals "
   ]
  },
  {
   "cell_type": "code",
   "execution_count": 16,
   "metadata": {},
   "outputs": [
    {
     "ename": "SyntaxError",
     "evalue": "invalid syntax (1756174080.py, line 11)",
     "output_type": "error",
     "traceback": [
      "  \u001b[36mCell\u001b[39m\u001b[36m \u001b[39m\u001b[32mIn[16]\u001b[39m\u001b[32m, line 11\u001b[39m\n\u001b[31m    \u001b[39m\u001b[31mcounts = (\"a\": 0, \"t\" :0, \"c\" : 0, \"g\" : 0 )\u001b[39m\n                 ^\n\u001b[31mSyntaxError\u001b[39m\u001b[31m:\u001b[39m invalid syntax\n"
     ]
    }
   ],
   "source": [
    "# Identify sequence of DNA codes, sequence ID and the actual sequence. \n",
    "dna_seq_id = \">seq1\"\n",
    "dna_act_seq = \"cGTAaccaataaaaaaacaagcttaacctaattc\"\n",
    "\n",
    "# Convert the sequence to lower case\n",
    "dna_act_seq = dna_act_seq.lower()\n",
    "print(dna_seq_id)\n",
    "print (dna_act_seq)\n",
    "\n",
    "\n",
    "# Initialize counts of each nucleotide to zero\n",
    "counts = (\"a\": 0, \"t\" :0, \"c\" : 0, \"g\" : 0 )\n",
    "for dna_seq in dna_act_seq.lower():\n",
    "    if dna_seq in counts:\n",
    "        counts = (counts + 1)\n",
    "        print (\"a\", counts)\n"
   ]
  }
 ],
 "metadata": {
  "kernelspec": {
   "display_name": ".venv",
   "language": "python",
   "name": "python3"
  },
  "language_info": {
   "codemirror_mode": {
    "name": "ipython",
    "version": 3
   },
   "file_extension": ".py",
   "mimetype": "text/x-python",
   "name": "python",
   "nbconvert_exporter": "python",
   "pygments_lexer": "ipython3",
   "version": "3.12.8"
  }
 },
 "nbformat": 4,
 "nbformat_minor": 2
}
