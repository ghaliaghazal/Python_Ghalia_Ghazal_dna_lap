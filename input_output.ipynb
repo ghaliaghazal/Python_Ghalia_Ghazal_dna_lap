{
 "cells": [
  {
   "cell_type": "markdown",
   "metadata": {},
   "source": [
    "Lab1 - Python fundamentals "
   ]
  },
  {
   "cell_type": "code",
   "execution_count": null,
   "metadata": {},
   "outputs": [],
   "source": [
    "# Identify sequence of DNA codes, sequence ID and the actual sequence. \n",
    "dna_seq1_id = \">seq1\"\n",
    "dna_act_seq1 = \"cGTAaccaataaaaaaacaagcttaacctaattc\"\n",
    "\n",
    "dna_seq2_id = \">seq2\"\n",
    "dna_act_seq2 = \"agcttagTTTGGatctggccgggg\"\n",
    "\n",
    "dna_seq3_id = \">seq3\"\n",
    "dna_act_seq3 = \"gcggatttactcCCCCCAAAAANNaggggagagcccagataaatggagtctgtgcgtccaca\"\n",
    "\n",
    "dna_seq4_id = \">seq4\"\n",
    "dna_act_seq4 = \"gcggatttactcaggggagagcccagGGataaatggagtctgtgcgtccaca\"\n",
    "\n",
    "\n",
    "\n",
    "\n",
    "# Convert the sequence to lower case\n",
    "dna_act_seq1 = dna_act_seq1.lower()\n",
    "dna_act_seq2 = dna_act_seq2.lower()\n",
    "dna_act_seq3 = dna_act_seq3.lower()\n",
    "dna_act_seq4 = dna_act_seq4.lower()\n",
    "\n",
    "print(dna_seq1_id, dna_act_seq1)\n",
    "print(dna_seq2_id, dna_act_seq2)\n",
    "print(dna_seq3_id, dna_act_seq3)\n",
    "print(dna_seq4_id, dna_act_seq4)\n",
    "\n",
    "\n",
    "\n",
    "\n",
    "# Initialize counts of each nucleotide to zero\n",
    "counts1 = {\"a\": 0, \"t\" :0, \"c\" : 0, \"g\" : 0 }\n",
    "\n",
    "for dna_seq1 in dna_act_seq1.lower():\n",
    "    if dna_seq1 in counts1:\n",
    "        counts1[dna_seq1] += 1\n",
    "\n",
    "\n",
    "counts2 = {\"a\": 0, \"t\" :0, \"c\" : 0, \"g\" : 0 }\n",
    "\n",
    "for dna_seq2 in dna_act_seq2.lower():\n",
    "    if dna_seq2 in counts2:\n",
    "        counts2[dna_seq2] += 1\n",
    "\n",
    "counts3 = {\"a\": 0, \"t\" :0, \"c\" : 0, \"g\" : 0 }\n",
    "for dna_seq3 in dna_act_seq3.lower():\n",
    "    if dna_seq3 in counts3:\n",
    "        counts3[dna_seq3] += 1\n",
    "\n",
    "counts4 = {\"a\": 0, \"t\" :0, \"c\" : 0, \"g\" : 0 }\n",
    "for dna_seq4 in dna_act_seq4.lower():\n",
    "    if dna_seq4 in counts4:\n",
    "        counts4[dna_seq4] += 1\n",
    "        \n",
    "\n",
    "       # print (counts)\n",
    "print (\"final counts seq1:\", counts1)\n",
    "print (\"final counts seq2:\", counts2)\n",
    "print (\"final counts seq3:\", counts3)\n",
    "print (\"final counts seq4:\", counts4)\n",
    "\n",
    "## \n",
    "\n",
    "\n",
    "\n"
   ]
  }
 ],
 "metadata": {
  "kernelspec": {
   "display_name": ".venv",
   "language": "python",
   "name": "python3"
  },
  "language_info": {
   "codemirror_mode": {
    "name": "ipython",
    "version": 3
   },
   "file_extension": ".py",
   "mimetype": "text/x-python",
   "name": "python",
   "nbconvert_exporter": "python",
   "pygments_lexer": "ipython3",
   "version": "3.12.8"
  }
 },
 "nbformat": 4,
 "nbformat_minor": 2
}
